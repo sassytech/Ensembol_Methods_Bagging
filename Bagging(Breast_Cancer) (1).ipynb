{
  "nbformat": 4,
  "nbformat_minor": 0,
  "metadata": {
    "colab": {
      "provenance": []
    },
    "kernelspec": {
      "name": "python3",
      "display_name": "Python 3"
    },
    "language_info": {
      "name": "python"
    }
  },
  "cells": [
    {
      "cell_type": "code",
      "execution_count": null,
      "metadata": {
        "id": "Lh4dhHRXAUhl"
      },
      "outputs": [],
      "source": [
        "import numpy as np\n",
        "from sklearn import datasets\n",
        "from sklearn.model_selection import train_test_split\n",
        "\n",
        "from sklearn.preprocessing import StandardScaler\n",
        "from sklearn.linear_model import LogisticRegression\n",
        "from sklearn.pipeline import make_pipeline\n",
        "from sklearn.ensemble import BaggingClassifier"
      ]
    },
    {
      "cell_type": "code",
      "source": [
        "df = datasets.load_breast_cancer()\n",
        "X = df.data\n",
        "y = df.target"
      ],
      "metadata": {
        "id": "FScWTFS0A_Ox"
      },
      "execution_count": null,
      "outputs": []
    },
    {
      "cell_type": "code",
      "source": [
        "Xtrain,Xtest,ytrain,ytest = train_test_split(X,y,test_size=0.25,random_state = 1)"
      ],
      "metadata": {
        "id": "XoNBO5jRBMk3"
      },
      "execution_count": null,
      "outputs": []
    },
    {
      "cell_type": "code",
      "source": [
        "pipeline = make_pipeline(StandardScaler(),LogisticRegression(random_state=1))"
      ],
      "metadata": {
        "id": "8m5d0JLwCJAk"
      },
      "execution_count": null,
      "outputs": []
    },
    {
      "cell_type": "code",
      "source": [
        "pipeline.fit(Xtrain,ytrain)"
      ],
      "metadata": {
        "colab": {
          "base_uri": "https://localhost:8080/"
        },
        "id": "yBRP2k_VCSfk",
        "outputId": "d4a9ec11-773b-44de-d8d1-46d88ae533d9"
      },
      "execution_count": null,
      "outputs": [
        {
          "output_type": "execute_result",
          "data": {
            "text/plain": [
              "Pipeline(steps=[('standardscaler', StandardScaler()),\n",
              "                ('logisticregression', LogisticRegression(random_state=1))])"
            ]
          },
          "metadata": {},
          "execution_count": 6
        }
      ]
    },
    {
      "cell_type": "code",
      "source": [
        "print(pipeline.score(Xtest,ytest))"
      ],
      "metadata": {
        "colab": {
          "base_uri": "https://localhost:8080/"
        },
        "id": "EFMqdSopCVeP",
        "outputId": "1c612c22-31e2-431d-bb0d-06e67b02be46"
      },
      "execution_count": null,
      "outputs": [
        {
          "output_type": "stream",
          "name": "stdout",
          "text": [
            "0.9790209790209791\n"
          ]
        }
      ]
    },
    {
      "cell_type": "code",
      "source": [
        "### Now we are going to make multiple parallel logistic regression models\n",
        "##using the ensemble technique bagging"
      ],
      "metadata": {
        "id": "LRht90JhCa8M"
      },
      "execution_count": null,
      "outputs": []
    },
    {
      "cell_type": "code",
      "source": [
        "bgclassifier = BaggingClassifier(base_estimator = pipeline,\n",
        "                                n_estimators=100,max_features = 10, max_samples=100,\n",
        "                                 random_state=1)"
      ],
      "metadata": {
        "id": "gvnq_I09Dqzu"
      },
      "execution_count": null,
      "outputs": []
    },
    {
      "cell_type": "code",
      "source": [
        "bgclassifier.fit(Xtrain,ytrain)"
      ],
      "metadata": {
        "colab": {
          "base_uri": "https://localhost:8080/"
        },
        "id": "jSyWGEZVEuBu",
        "outputId": "b9185ebf-62d2-42e3-9528-2f4df655b6a7"
      },
      "execution_count": null,
      "outputs": [
        {
          "output_type": "execute_result",
          "data": {
            "text/plain": [
              "BaggingClassifier(base_estimator=Pipeline(steps=[('standardscaler',\n",
              "                                                  StandardScaler()),\n",
              "                                                 ('logisticregression',\n",
              "                                                  LogisticRegression(random_state=1))]),\n",
              "                  max_features=10, max_samples=100, n_estimators=100,\n",
              "                  random_state=1)"
            ]
          },
          "metadata": {},
          "execution_count": 12
        }
      ]
    },
    {
      "cell_type": "code",
      "source": [
        "print(bgclassifier.score(Xtest,ytest))"
      ],
      "metadata": {
        "colab": {
          "base_uri": "https://localhost:8080/"
        },
        "id": "S4MjG4TvEz56",
        "outputId": "89aa204d-32ac-4986-8d7e-5a4d872960f2"
      },
      "execution_count": null,
      "outputs": [
        {
          "output_type": "stream",
          "name": "stdout",
          "text": [
            "0.958041958041958\n"
          ]
        }
      ]
    },
    {
      "cell_type": "code",
      "source": [],
      "metadata": {
        "id": "xdzjXsjWFAf9"
      },
      "execution_count": null,
      "outputs": []
    }
  ]
}